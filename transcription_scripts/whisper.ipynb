{
 "cells": [
  {
   "cell_type": "code",
   "execution_count": 22,
   "metadata": {},
   "outputs": [],
   "source": [
    "import os\n",
    "import whisper\n",
    "from whisper.utils import get_writer"
   ]
  },
  {
   "cell_type": "code",
   "execution_count": null,
   "metadata": {},
   "outputs": [],
   "source": [
    "model = whisper.load_model('small')"
   ]
  },
  {
   "cell_type": "code",
   "execution_count": 20,
   "metadata": {},
   "outputs": [],
   "source": [
    "def get_transcribe(audio: str, language: str = 'en'):\n",
    "    return model.transcribe(audio=audio, language=language, verbose=True)"
   ]
  },
  {
   "cell_type": "code",
   "execution_count": 23,
   "metadata": {},
   "outputs": [],
   "source": [
    "def save_file(results, format='tsv', output_folder='./output'):\n",
    "    if not os.path.exists(output_folder):\n",
    "        os.makedirs(output_folder)\n",
    "    writer = get_writer(format, output_folder)\n",
    "    writer(results, f'transcribe.{format}')"
   ]
  },
  {
   "cell_type": "code",
   "execution_count": 24,
   "metadata": {},
   "outputs": [],
   "source": [
    "def transcribe_multiple(files):\n",
    "    for idx, file in enumerate(files):\n",
    "        output_folder = f'./output{idx + 1}/'\n",
    "        result = get_transcribe(audio=file)\n",
    "        print('-'*50)\n",
    "        print(f\"Transcription for {file}:\")\n",
    "        print(result.get('text', ''))\n",
    "        save_file(result, output_folder=output_folder)\n",
    "        save_file(result, 'txt', output_folder=output_folder)\n",
    "        save_file(result, 'srt', output_folder=output_folder)"
   ]
  },
  {
   "cell_type": "code",
   "execution_count": 34,
   "metadata": {},
   "outputs": [],
   "source": [
    "file_paths = [\n",
    "    './What is NLP (Neuro Linguistic Programming) 🧠   3XP Podcast @AyushiMathur.mp3',\n",
    "    './NLP in 30 seconds (Neuro-Linguistic Programming).mp3',\n",
    "]"
   ]
  },
  {
   "cell_type": "code",
   "execution_count": 35,
   "metadata": {},
   "outputs": [
    {
     "name": "stderr",
     "output_type": "stream",
     "text": [
      "c:\\Users\\Usaid\\AppData\\Local\\Programs\\Python\\Python39\\lib\\site-packages\\whisper\\transcribe.py:115: UserWarning: FP16 is not supported on CPU; using FP32 instead\n",
      "  warnings.warn(\"FP16 is not supported on CPU; using FP32 instead\")\n"
     ]
    },
    {
     "name": "stdout",
     "output_type": "stream",
     "text": [
      "[00:00.000 --> 00:04.480]  You were mentioning NLP. It sounded something like an illegal substance.\n",
      "[00:04.480 --> 00:05.840]  NLP is what you want.\n",
      "[00:05.840 --> 00:11.640]  It does actually, you know, the industry, the psychology industry has made NLP like that.\n",
      "[00:11.640 --> 00:15.360]  They look at psychologists and psychiatrists, they look at NLP like,\n",
      "[00:15.360 --> 00:17.440]  oh it's that illegal substance.\n",
      "[00:17.440 --> 00:20.960]  But it's not. NLP means Neuro-Linguistic Programming.\n",
      "[00:20.960 --> 00:26.480]  It means whatever is happening in your brain, in your subconscious, whatever you are talking to yourself,\n",
      "[00:26.480 --> 00:30.640]  all that can be programmed and reprogrammed with your language.\n",
      "[00:30.640 --> 00:36.480]  So what you say to yourself and about yourself kind of dictates who you are and what you do in life.\n",
      "[00:36.480 --> 00:37.280]  That is NLP.\n",
      "--------------------------------------------------\n",
      "Transcription for ./What is NLP (Neuro Linguistic Programming) 🧠   3XP Podcast @AyushiMathur.mp3:\n",
      " You were mentioning NLP. It sounded something like an illegal substance. NLP is what you want. It does actually, you know, the industry, the psychology industry has made NLP like that. They look at psychologists and psychiatrists, they look at NLP like, oh it's that illegal substance. But it's not. NLP means Neuro-Linguistic Programming. It means whatever is happening in your brain, in your subconscious, whatever you are talking to yourself, all that can be programmed and reprogrammed with your language. So what you say to yourself and about yourself kind of dictates who you are and what you do in life. That is NLP.\n",
      "[00:00.000 --> 00:06.160]  If someone doesn't know about about NLP, a neuro-linguistic program, that's it. Yeah. If someone\n",
      "[00:06.160 --> 00:11.840]  doesn't know about that, how would you break it down? Like, what is it? So the easiest way I say to\n",
      "[00:11.840 --> 00:18.880]  people is if you've got a car, you're going to take it for a 10 more T. Yeah, just service it.\n",
      "[00:18.880 --> 00:24.240]  Yeah, to make sure it runs right. Yeah. If you've got your latest iPhone, I can guarantee how many\n",
      "[00:24.240 --> 00:31.840]  times does it say update and you'll update it or your X-Box or all of that. Yeah, NLP is basically\n",
      "[00:31.840 --> 00:34.800]  doing exactly that with the mindset.\n",
      "--------------------------------------------------\n",
      "Transcription for ./NLP in 30 seconds (Neuro-Linguistic Programming).mp3:\n",
      " If someone doesn't know about about NLP, a neuro-linguistic program, that's it. Yeah. If someone doesn't know about that, how would you break it down? Like, what is it? So the easiest way I say to people is if you've got a car, you're going to take it for a 10 more T. Yeah, just service it. Yeah, to make sure it runs right. Yeah. If you've got your latest iPhone, I can guarantee how many times does it say update and you'll update it or your X-Box or all of that. Yeah, NLP is basically doing exactly that with the mindset.\n"
     ]
    }
   ],
   "source": [
    "transcribe_multiple(file_paths)"
   ]
  }
 ],
 "metadata": {
  "kernelspec": {
   "display_name": "Python 3",
   "language": "python",
   "name": "python3"
  },
  "language_info": {
   "codemirror_mode": {
    "name": "ipython",
    "version": 3
   },
   "file_extension": ".py",
   "mimetype": "text/x-python",
   "name": "python",
   "nbconvert_exporter": "python",
   "pygments_lexer": "ipython3",
   "version": "3.9.6"
  }
 },
 "nbformat": 4,
 "nbformat_minor": 2
}
